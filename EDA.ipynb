{
 "cells": [
  {
   "cell_type": "code",
   "execution_count": 244,
   "id": "d6f421b6",
   "metadata": {},
   "outputs": [],
   "source": [
    "import sqlite3\n",
    "import pandas as pd\n",
    "import sqlalchemy\n",
    "\n",
    "import matplotlib.pyplot as plt\n",
    "import numpy as np\n",
    "\n",
    "from bs4 import BeautifulSoup \n",
    "\n",
    "from nltk.tokenize import sent_tokenize, word_tokenize, RegexpTokenizer\n",
    "from nltk.corpus import stopwords \n",
    "from sklearn.feature_extraction.text import CountVectorizer, TfidfVectorizer"
   ]
  },
  {
   "cell_type": "code",
   "execution_count": 245,
   "id": "98938879",
   "metadata": {},
   "outputs": [
    {
     "data": {
      "text/html": [
       "<div>\n",
       "<style scoped>\n",
       "    .dataframe tbody tr th:only-of-type {\n",
       "        vertical-align: middle;\n",
       "    }\n",
       "\n",
       "    .dataframe tbody tr th {\n",
       "        vertical-align: top;\n",
       "    }\n",
       "\n",
       "    .dataframe thead th {\n",
       "        text-align: right;\n",
       "    }\n",
       "</style>\n",
       "<table border=\"1\" class=\"dataframe\">\n",
       "  <thead>\n",
       "    <tr style=\"text-align: right;\">\n",
       "      <th></th>\n",
       "      <th>id</th>\n",
       "      <th>title</th>\n",
       "      <th>link</th>\n",
       "      <th>description</th>\n",
       "      <th>ingredients</th>\n",
       "      <th>photo</th>\n",
       "    </tr>\n",
       "  </thead>\n",
       "  <tbody>\n",
       "    <tr>\n",
       "      <th>0</th>\n",
       "      <td>1</td>\n",
       "      <td>Жаркое по-деревенски</td>\n",
       "      <td>/recipes/recipe.php?rid=159506</td>\n",
       "      <td>Простое, но очень ароматное и вкусное блюдо дл...</td>\n",
       "      <td>Продукты ,Свиная корейка без кости - 1 кг,Сало...</td>\n",
       "      <td>//img1.russianfood.com/dycontent/images_upl/46...</td>\n",
       "    </tr>\n",
       "    <tr>\n",
       "      <th>1</th>\n",
       "      <td>2</td>\n",
       "      <td>Куриный беф-строганов</td>\n",
       "      <td>/recipes/recipe.php?rid=121844</td>\n",
       "      <td>Бефстроганов из курицы - очень нежный и вкусны...</td>\n",
       "      <td>Продукты ,(на 4 порции),Куриное филе – 600 г,С...</td>\n",
       "      <td>//img1.russianfood.com/dycontent/images_upl/32...</td>\n",
       "    </tr>\n",
       "    <tr>\n",
       "      <th>2</th>\n",
       "      <td>3</td>\n",
       "      <td>Картошка, запечённая с сосисками, помидорами и...</td>\n",
       "      <td>/recipes/recipe.php?rid=165007</td>\n",
       "      <td>Простое, но достаточно интересное блюдо - запе...</td>\n",
       "      <td>Продукты ,(на 4 порции),Картофель (некрупный) ...</td>\n",
       "      <td>//img1.russianfood.com/dycontent/images_upl/55...</td>\n",
       "    </tr>\n",
       "    <tr>\n",
       "      <th>3</th>\n",
       "      <td>4</td>\n",
       "      <td>Макароны с мясом в томатном соусе, на сковороде</td>\n",
       "      <td>/recipes/recipe.php?rid=164739</td>\n",
       "      <td>Блюдо привлекательно тем, что макароны отдельн...</td>\n",
       "      <td>Продукты ,Свинина (корейка без кости) - 300 г,...</td>\n",
       "      <td>//img1.russianfood.com/dycontent/images_upl/55...</td>\n",
       "    </tr>\n",
       "    <tr>\n",
       "      <th>4</th>\n",
       "      <td>5</td>\n",
       "      <td>Жюльен с курицей и грибами</td>\n",
       "      <td>/recipes/recipe.php?rid=140728</td>\n",
       "      <td>Очень популярную закуску - жульен (или точнее ...</td>\n",
       "      <td>Продукты ,(на 4 порции),Филе куриное - 400 г,Г...</td>\n",
       "      <td>//img1.russianfood.com/dycontent/images_upl/19...</td>\n",
       "    </tr>\n",
       "  </tbody>\n",
       "</table>\n",
       "</div>"
      ],
      "text/plain": [
       "   id                                              title  \\\n",
       "0   1                               Жаркое по-деревенски   \n",
       "1   2                              Куриный беф-строганов   \n",
       "2   3  Картошка, запечённая с сосисками, помидорами и...   \n",
       "3   4    Макароны с мясом в томатном соусе, на сковороде   \n",
       "4   5                         Жюльен с курицей и грибами   \n",
       "\n",
       "                             link  \\\n",
       "0  /recipes/recipe.php?rid=159506   \n",
       "1  /recipes/recipe.php?rid=121844   \n",
       "2  /recipes/recipe.php?rid=165007   \n",
       "3  /recipes/recipe.php?rid=164739   \n",
       "4  /recipes/recipe.php?rid=140728   \n",
       "\n",
       "                                         description  \\\n",
       "0  Простое, но очень ароматное и вкусное блюдо дл...   \n",
       "1  Бефстроганов из курицы - очень нежный и вкусны...   \n",
       "2  Простое, но достаточно интересное блюдо - запе...   \n",
       "3  Блюдо привлекательно тем, что макароны отдельн...   \n",
       "4  Очень популярную закуску - жульен (или точнее ...   \n",
       "\n",
       "                                         ingredients  \\\n",
       "0  Продукты ,Свиная корейка без кости - 1 кг,Сало...   \n",
       "1  Продукты ,(на 4 порции),Куриное филе – 600 г,С...   \n",
       "2  Продукты ,(на 4 порции),Картофель (некрупный) ...   \n",
       "3  Продукты ,Свинина (корейка без кости) - 300 г,...   \n",
       "4  Продукты ,(на 4 порции),Филе куриное - 400 г,Г...   \n",
       "\n",
       "                                               photo  \n",
       "0  //img1.russianfood.com/dycontent/images_upl/46...  \n",
       "1  //img1.russianfood.com/dycontent/images_upl/32...  \n",
       "2  //img1.russianfood.com/dycontent/images_upl/55...  \n",
       "3  //img1.russianfood.com/dycontent/images_upl/55...  \n",
       "4  //img1.russianfood.com/dycontent/images_upl/19...  "
      ]
     },
     "execution_count": 245,
     "metadata": {},
     "output_type": "execute_result"
    }
   ],
   "source": [
    "# Load dataset\n",
    "engine = sqlalchemy.create_engine('sqlite:///My_DB.db')\n",
    "df = pd.read_sql('SELECT * FROM recipes', engine)\n",
    "df.head()"
   ]
  },
  {
   "cell_type": "code",
   "execution_count": 246,
   "id": "55dbc704",
   "metadata": {},
   "outputs": [
    {
     "name": "stdout",
     "output_type": "stream",
     "text": [
      "<class 'pandas.core.frame.DataFrame'>\n",
      "RangeIndex: 65 entries, 0 to 64\n",
      "Data columns (total 6 columns):\n",
      " #   Column       Non-Null Count  Dtype \n",
      "---  ------       --------------  ----- \n",
      " 0   id           65 non-null     int64 \n",
      " 1   title        65 non-null     object\n",
      " 2   link         65 non-null     object\n",
      " 3   description  65 non-null     object\n",
      " 4   ingredients  65 non-null     object\n",
      " 5   photo        65 non-null     object\n",
      "dtypes: int64(1), object(5)\n",
      "memory usage: 3.2+ KB\n"
     ]
    }
   ],
   "source": [
    "df.info()"
   ]
  },
  {
   "cell_type": "markdown",
   "id": "35acdf96",
   "metadata": {},
   "source": [
    "# EDA"
   ]
  },
  {
   "cell_type": "code",
   "execution_count": 247,
   "id": "9129dcd8",
   "metadata": {},
   "outputs": [
    {
     "data": {
      "text/plain": [
       "id             0\n",
       "title          0\n",
       "link           0\n",
       "description    0\n",
       "ingredients    0\n",
       "photo          0\n",
       "dtype: int64"
      ]
     },
     "execution_count": 247,
     "metadata": {},
     "output_type": "execute_result"
    }
   ],
   "source": [
    "# Check the NA's\n",
    "df.isnull().sum()"
   ]
  },
  {
   "cell_type": "markdown",
   "id": "ff8908cb",
   "metadata": {},
   "source": [
    "## Creating corpus"
   ]
  },
  {
   "cell_type": "code",
   "execution_count": 248,
   "id": "2ffcf90b",
   "metadata": {},
   "outputs": [],
   "source": [
    "# Combining title, description and ingredients columns\n",
    "df['combined_text'] = df['title']+ ' ' + df['description']+ ' ' + df['ingredients']+ ' '"
   ]
  },
  {
   "cell_type": "code",
   "execution_count": 249,
   "id": "12a229f8",
   "metadata": {},
   "outputs": [
    {
     "data": {
      "text/plain": [
       "'Жаркое по-деревенски Простое, но очень ароматное и вкусное блюдо для семейного обеда или ужина. Продукты ,Свиная корейка без кости - 1 кг,Сало свиное свежее - 50 г,Масло сливочное - 50 г,Картофель - 1 кг,Перец болгарский - 1 шт.,Морковь - 2 шт.,Лук репчатый - 2 шт.,Чеснок - 2 зубчика,Зелень петрушки свежая - по вкусу,Зелень петрушки сушёная - по вкусу,Специи для мяса - по вкусу,Перец чёрный горошком - по вкусу,Перец чёрный молотый - по вкусу,Соль - по вкусу '"
      ]
     },
     "execution_count": 249,
     "metadata": {},
     "output_type": "execute_result"
    }
   ],
   "source": [
    "df['combined_text'][0]"
   ]
  },
  {
   "cell_type": "code",
   "execution_count": 250,
   "id": "a4f7b000",
   "metadata": {},
   "outputs": [],
   "source": [
    "\n",
    "from nltk.corpus import stopwords\n",
    "import re\n",
    "import string\n",
    "from nltk.stem import WordNetLemmatizer\n",
    "from nltk import word_tokenize\n",
    "from nltk.corpus import stopwords\n",
    "stop = stopwords.words('russian')\n",
    "stop_words_ = set(stopwords.words('russian'))\n",
    "wn = WordNetLemmatizer()\n",
    "\n",
    "def black_txt(token):\n",
    "    return  token not in stop_words_ and token not in list(string.punctuation)  and len(token)>2   \n",
    "  \n",
    "def clean_txt(text):\n",
    "    clean_text = []\n",
    "    clean_text2 = []\n",
    "    text = re.sub(\"'\", \"\",text)\n",
    "    text=re.sub(\"(\\\\d|\\\\W)+\",\" \",text) \n",
    "    text = text.replace(\"nbsp\", \"\")\n",
    "    clean_text = [ wn.lemmatize(word, pos=\"v\") for word in word_tokenize(text.lower()) if black_txt(word)]\n",
    "    clean_text2 = [word for word in clean_text if black_txt(word)]\n",
    "    return \" \".join(clean_text2)\n",
    "    "
   ]
  },
  {
   "cell_type": "code",
   "execution_count": 251,
   "id": "7b0ecd6c",
   "metadata": {},
   "outputs": [],
   "source": [
    "tokenizer = RegexpTokenizer(r'\\w+')"
   ]
  },
  {
   "cell_type": "code",
   "execution_count": 252,
   "id": "7ab7d89e",
   "metadata": {},
   "outputs": [],
   "source": [
    "def clean_txt(text):\n",
    "    combined_tokens = tokenizer.tokenize(text.lower())\n",
    "    no_stop_words = [token for token in combined_tokens if token not in stopwords.words('russian') and len(token)>2]\n",
    "    without_gram = [token for token in no_stop_words if token not in ['ч','кг','г','шт', 'ст', 'ложки', 'стакан','мл']]\n",
    "    without_gram = list(dict.fromkeys(without_gram ))\n",
    "    return \" \".join(without_gram)"
   ]
  },
  {
   "cell_type": "code",
   "execution_count": 253,
   "id": "d4c024ff",
   "metadata": {},
   "outputs": [],
   "source": [
    "df['combined_text'] = df['combined_text'].apply(clean_txt)"
   ]
  },
  {
   "cell_type": "code",
   "execution_count": 254,
   "id": "71e67284",
   "metadata": {},
   "outputs": [
    {
     "data": {
      "text/plain": [
       "'ленивые голубцы духовке хочется голубцов времени приготовление выручает ленивый вариант приготовления блюда продукты фарш мясной 400 капуста белокочанная рис круглозёрный стакана яйцо лук репчатый морковь чеснок зубчика масло подсолнечное ложка перец чёрный молотый вкусу соль соуса томатная паста воды томатный сок подачи сметана зелень свежая'"
      ]
     },
     "execution_count": 254,
     "metadata": {},
     "output_type": "execute_result"
    }
   ],
   "source": [
    "df['combined_text'][5]"
   ]
  },
  {
   "cell_type": "markdown",
   "id": "fb642333",
   "metadata": {},
   "source": [
    "#### TF-IDF ( Term Frequency - Inverse Document Frequency ) "
   ]
  },
  {
   "cell_type": "code",
   "execution_count": 255,
   "id": "f85abd40",
   "metadata": {},
   "outputs": [
    {
     "data": {
      "text/plain": [
       "<65x1266 sparse matrix of type '<class 'numpy.float64'>'\n",
       "\twith 3054 stored elements in Compressed Sparse Row format>"
      ]
     },
     "execution_count": 255,
     "metadata": {},
     "output_type": "execute_result"
    }
   ],
   "source": [
    "#initializing tfidf vectorizer\n",
    "from sklearn.feature_extraction.text import TfidfVectorizer\n",
    "tfidf_vectorizer = TfidfVectorizer()\n",
    "\n",
    "tfidf_recipe = tfidf_vectorizer.fit_transform((df['combined_text'])) #fitting and transforming the vector\n",
    "tfidf_recipe"
   ]
  },
  {
   "cell_type": "code",
   "execution_count": 256,
   "id": "ee374c49",
   "metadata": {},
   "outputs": [],
   "source": [
    "promt_request = ['Жаркое жюльен макароны помидоры мясо сыр суши']"
   ]
  },
  {
   "cell_type": "code",
   "execution_count": 257,
   "id": "402a6a7c",
   "metadata": {},
   "outputs": [],
   "source": [
    "from sklearn.metrics.pairwise import cosine_similarity\n",
    "user_tfidf = tfidf_vectorizer.transform(promt_request)\n",
    "cos_similarity_tfidf = map(lambda x: cosine_similarity(user_tfidf, x), tfidf_recipe)"
   ]
  },
  {
   "cell_type": "code",
   "execution_count": 258,
   "id": "3361815a",
   "metadata": {},
   "outputs": [],
   "source": [
    "output = list(cos_similarity_tfidf)"
   ]
  },
  {
   "cell_type": "code",
   "execution_count": 259,
   "id": "841a354d",
   "metadata": {},
   "outputs": [],
   "source": [
    "def get_recommendation(top, df, scores):\n",
    "    recommendation = pd.DataFrame(columns = ['request', 'number',  'title', 'score'])\n",
    "    count = 0\n",
    "    for i in top:\n",
    "        recommendation.at[count, 'request'] = promt_request\n",
    "        recommendation.at[count, 'title'] = df['combined_text'][i]\n",
    "        recommendation.at[count, 'number'] = df['id'][i]\n",
    "        recommendation.at[count, 'score'] =  scores[count]\n",
    "        count += 1\n",
    "    return recommendation"
   ]
  },
  {
   "cell_type": "code",
   "execution_count": 260,
   "id": "e0bb0d18",
   "metadata": {},
   "outputs": [
    {
     "data": {
      "text/html": [
       "<div>\n",
       "<style scoped>\n",
       "    .dataframe tbody tr th:only-of-type {\n",
       "        vertical-align: middle;\n",
       "    }\n",
       "\n",
       "    .dataframe tbody tr th {\n",
       "        vertical-align: top;\n",
       "    }\n",
       "\n",
       "    .dataframe thead th {\n",
       "        text-align: right;\n",
       "    }\n",
       "</style>\n",
       "<table border=\"1\" class=\"dataframe\">\n",
       "  <thead>\n",
       "    <tr style=\"text-align: right;\">\n",
       "      <th></th>\n",
       "      <th>request</th>\n",
       "      <th>number</th>\n",
       "      <th>title</th>\n",
       "      <th>score</th>\n",
       "    </tr>\n",
       "  </thead>\n",
       "  <tbody>\n",
       "    <tr>\n",
       "      <th>0</th>\n",
       "      <td>[Жаркое жюльен макароны помидоры мясо сыр суши]</td>\n",
       "      <td>5</td>\n",
       "      <td>жюльен курицей грибами очень популярную закуск...</td>\n",
       "      <td>0.132864</td>\n",
       "    </tr>\n",
       "    <tr>\n",
       "      <th>1</th>\n",
       "      <td>[Жаркое жюльен макароны помидоры мясо сыр суши]</td>\n",
       "      <td>33</td>\n",
       "      <td>жаркое свинины картошкой выходной день обед пр...</td>\n",
       "      <td>0.129378</td>\n",
       "    </tr>\n",
       "    <tr>\n",
       "      <th>2</th>\n",
       "      <td>[Жаркое жюльен макароны помидоры мясо сыр суши]</td>\n",
       "      <td>24</td>\n",
       "      <td>запеканка макарон курицей помидорами доступных...</td>\n",
       "      <td>0.098856</td>\n",
       "    </tr>\n",
       "    <tr>\n",
       "      <th>3</th>\n",
       "      <td>[Жаркое жюльен макароны помидоры мясо сыр суши]</td>\n",
       "      <td>1</td>\n",
       "      <td>жаркое деревенски простое очень ароматное вкус...</td>\n",
       "      <td>0.096738</td>\n",
       "    </tr>\n",
       "    <tr>\n",
       "      <th>4</th>\n",
       "      <td>[Жаркое жюльен макароны помидоры мясо сыр суши]</td>\n",
       "      <td>27</td>\n",
       "      <td>гнёзда спагетти фаршем помидорами сыром духовк...</td>\n",
       "      <td>0.08772</td>\n",
       "    </tr>\n",
       "    <tr>\n",
       "      <th>5</th>\n",
       "      <td>[Жаркое жюльен макароны помидоры мясо сыр суши]</td>\n",
       "      <td>46</td>\n",
       "      <td>макароны крабовыми палочками сметаной чесноком...</td>\n",
       "      <td>0.081135</td>\n",
       "    </tr>\n",
       "    <tr>\n",
       "      <th>6</th>\n",
       "      <td>[Жаркое жюльен макароны помидоры мясо сыр суши]</td>\n",
       "      <td>19</td>\n",
       "      <td>басма величество задача накормить человек напр...</td>\n",
       "      <td>0.079197</td>\n",
       "    </tr>\n",
       "    <tr>\n",
       "      <th>7</th>\n",
       "      <td>[Жаркое жюльен макароны помидоры мясо сыр суши]</td>\n",
       "      <td>9</td>\n",
       "      <td>спаггети курицей помидорами черри простой вкус...</td>\n",
       "      <td>0.076778</td>\n",
       "    </tr>\n",
       "    <tr>\n",
       "      <th>8</th>\n",
       "      <td>[Жаркое жюльен макароны помидоры мясо сыр суши]</td>\n",
       "      <td>61</td>\n",
       "      <td>мясо немецки белым вином помидорами яблоками и...</td>\n",
       "      <td>0.074056</td>\n",
       "    </tr>\n",
       "    <tr>\n",
       "      <th>9</th>\n",
       "      <td>[Жаркое жюльен макароны помидоры мясо сыр суши]</td>\n",
       "      <td>8</td>\n",
       "      <td>тушёная картошка мясом грибами сметаной картоф...</td>\n",
       "      <td>0.065676</td>\n",
       "    </tr>\n",
       "  </tbody>\n",
       "</table>\n",
       "</div>"
      ],
      "text/plain": [
       "                                           request number  \\\n",
       "0  [Жаркое жюльен макароны помидоры мясо сыр суши]      5   \n",
       "1  [Жаркое жюльен макароны помидоры мясо сыр суши]     33   \n",
       "2  [Жаркое жюльен макароны помидоры мясо сыр суши]     24   \n",
       "3  [Жаркое жюльен макароны помидоры мясо сыр суши]      1   \n",
       "4  [Жаркое жюльен макароны помидоры мясо сыр суши]     27   \n",
       "5  [Жаркое жюльен макароны помидоры мясо сыр суши]     46   \n",
       "6  [Жаркое жюльен макароны помидоры мясо сыр суши]     19   \n",
       "7  [Жаркое жюльен макароны помидоры мясо сыр суши]      9   \n",
       "8  [Жаркое жюльен макароны помидоры мясо сыр суши]     61   \n",
       "9  [Жаркое жюльен макароны помидоры мясо сыр суши]      8   \n",
       "\n",
       "                                               title     score  \n",
       "0  жюльен курицей грибами очень популярную закуск...  0.132864  \n",
       "1  жаркое свинины картошкой выходной день обед пр...  0.129378  \n",
       "2  запеканка макарон курицей помидорами доступных...  0.098856  \n",
       "3  жаркое деревенски простое очень ароматное вкус...  0.096738  \n",
       "4  гнёзда спагетти фаршем помидорами сыром духовк...   0.08772  \n",
       "5  макароны крабовыми палочками сметаной чесноком...  0.081135  \n",
       "6  басма величество задача накормить человек напр...  0.079197  \n",
       "7  спаггети курицей помидорами черри простой вкус...  0.076778  \n",
       "8  мясо немецки белым вином помидорами яблоками и...  0.074056  \n",
       "9  тушёная картошка мясом грибами сметаной картоф...  0.065676  "
      ]
     },
     "execution_count": 260,
     "metadata": {},
     "output_type": "execute_result"
    }
   ],
   "source": [
    "top = sorted(range(len(output)), key=lambda i: output[i], reverse=True)[:10]\n",
    "list_scores = [output[i][0][0] for i in top]\n",
    "get_recommendation(top,df, list_scores)"
   ]
  },
  {
   "cell_type": "code",
   "execution_count": 261,
   "id": "9a190d96",
   "metadata": {},
   "outputs": [
    {
     "data": {
      "text/plain": [
       "'жюльен курицей грибами очень популярную закуску жульен точнее приготовить сковороде примерно полчаса совершенно напрягая приобретением кокотниц доведением блюда готовности духовке получается вкусно продукты порции филе куриное 400 грибы шампиньоны 300 лук репчатый 100 сливки 200 сыр твердый 150 масло растительное соль вкусу перец черный молотый зелень базилик салатные листья украшения'"
      ]
     },
     "execution_count": 261,
     "metadata": {},
     "output_type": "execute_result"
    }
   ],
   "source": [
    "df['combined_text'][4]"
   ]
  },
  {
   "cell_type": "code",
   "execution_count": null,
   "id": "82ed1256",
   "metadata": {},
   "outputs": [],
   "source": []
  }
 ],
 "metadata": {
  "kernelspec": {
   "display_name": "Python 3 (ipykernel)",
   "language": "python",
   "name": "python3"
  },
  "language_info": {
   "codemirror_mode": {
    "name": "ipython",
    "version": 3
   },
   "file_extension": ".py",
   "mimetype": "text/x-python",
   "name": "python",
   "nbconvert_exporter": "python",
   "pygments_lexer": "ipython3",
   "version": "3.10.4"
  }
 },
 "nbformat": 4,
 "nbformat_minor": 5
}
