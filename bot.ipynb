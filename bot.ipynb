{
 "cells": [
  {
   "cell_type": "code",
   "execution_count": 6,
   "id": "2793db68",
   "metadata": {},
   "outputs": [],
   "source": [
    "import pandas\n",
    "import telebot\n",
    "\n",
    "from telebot import types"
   ]
  },
  {
   "cell_type": "code",
   "execution_count": 10,
   "id": "b8dac2f1",
   "metadata": {},
   "outputs": [],
   "source": [
    "bot = telebot.TeleBot('5537138245:AAEFTNF-QZOPZlKdQYg6NIKTzJe7H2y9FdQ')\n",
    "\n",
    "\n",
    "@bot.message_handler(commands=['start'])\n",
    "def start(message):\n",
    "    mess = f'Привет, <b>{message.from_user.first_name}!</b> Этот бот подбирает для тебя рецепты.'\n",
    "    #bot.send_message(message.chat.id, mess, parse_mode = 'html')\n",
    "    \n",
    "    #keyboard\n",
    "    markup = types.ReplyKeyboardMarkup(resize_keyboard = True)\n",
    "    item1=types.KeyboardButton('Продолжить')\n",
    "    item2=types.KeyboardButton('Уйти')\n",
    "    \n",
    "    markup.add(item1, item2)                           \n",
    "    bot.send_message(message.chat.id, mess, parse_mode = 'html', reply_markup = markup)\n",
    "    \n",
    "@bot.message_handler(content_types=['text'])\n",
    "def replying(message):\n",
    "    if message.chat.type=='private':\n",
    "        if message.text=='Продолжить':\n",
    "            bot.send_message(message.chat.id, 'Напиши свои любимые блюда')\n",
    "                               \n",
    "bot.polling(none_stop=True)"
   ]
  },
  {
   "cell_type": "code",
   "execution_count": 82,
   "id": "52404a75",
   "metadata": {},
   "outputs": [],
   "source": [
    "import sqlite3\n",
    "\n",
    "class BotDB:\n",
    "    def __init__(self, db_file):\n",
    "        \"\"\"Соединение с БД\"\"\"\n",
    "        self.conn = sqlite3.connect(db_file)\n",
    "        sefl.cursor = sefl.conn.cursor()\n",
    "        \n",
    "    def user_exists(sefl, user_id):\n",
    "        result = sefl.cursor.execute(\"SELECT 'id' FROM 'users' WHERE 'user_id'=?\", (user_id,))\n",
    "        return bool(len(result.fetchall()))\n",
    "    \n",
    "    def get_user_id(sefl, user_id):\n",
    "        \"\"\"Получаем id\"\"\"\n",
    "        result = sefl.cursor.execute(\"SELECT 'id' FROM 'users' WHERE 'user_id'=?\", (user_id,))\n",
    "        return result.fetchall()[0]\n",
    "    \n",
    "    \n",
    "    def close(self):\n",
    "        self.conn.close()"
   ]
  },
  {
   "cell_type": "code",
   "execution_count": null,
   "id": "944d6da9",
   "metadata": {},
   "outputs": [],
   "source": []
  },
  {
   "cell_type": "code",
   "execution_count": null,
   "id": "51de31d9",
   "metadata": {},
   "outputs": [],
   "source": []
  }
 ],
 "metadata": {
  "kernelspec": {
   "display_name": "Python 3 (ipykernel)",
   "language": "python",
   "name": "python3"
  },
  "language_info": {
   "codemirror_mode": {
    "name": "ipython",
    "version": 3
   },
   "file_extension": ".py",
   "mimetype": "text/x-python",
   "name": "python",
   "nbconvert_exporter": "python",
   "pygments_lexer": "ipython3",
   "version": "3.10.4"
  }
 },
 "nbformat": 4,
 "nbformat_minor": 5
}
